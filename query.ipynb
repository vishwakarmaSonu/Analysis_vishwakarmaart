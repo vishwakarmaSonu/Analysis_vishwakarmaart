{
 "cells": [
  {
   "cell_type": "code",
   "execution_count": 1,
   "id": "52fdd075",
   "metadata": {},
   "outputs": [],
   "source": [
    "import numpy as np\n",
    "import pandas as pd\n",
    "import requests"
   ]
  },
  {
   "cell_type": "code",
   "execution_count": 2,
   "id": "4e83b93e",
   "metadata": {},
   "outputs": [],
   "source": [
    "data= requests.get(\"https://vishwakarmaartspaymentapi.pythonanywhere.com/api/query/\")"
   ]
  },
  {
   "cell_type": "code",
   "execution_count": 3,
   "id": "82f8c174",
   "metadata": {},
   "outputs": [
    {
     "data": {
      "text/plain": [
       "<Response [200]>"
      ]
     },
     "execution_count": 3,
     "metadata": {},
     "output_type": "execute_result"
    }
   ],
   "source": [
    "data"
   ]
  },
  {
   "cell_type": "code",
   "execution_count": 4,
   "id": "a1cfdd59",
   "metadata": {},
   "outputs": [
    {
     "data": {
      "text/plain": [
       "{'Date': 'Tue, 02 Apr 2024 05:47:37 GMT', 'Content-Type': 'application/json', 'Transfer-Encoding': 'chunked', 'Connection': 'keep-alive', 'Vary': 'Accept-Encoding, Accept, Cookie, origin', 'Allow': 'GET, POST, HEAD, OPTIONS', 'X-Frame-Options': 'DENY', 'X-Content-Type-Options': 'nosniff', 'Referrer-Policy': 'same-origin', 'Cross-Origin-Opener-Policy': 'same-origin', 'X-Clacks-Overhead': 'GNU Terry Pratchett', 'Content-Encoding': 'gzip', 'Server': 'PythonAnywhere'}"
      ]
     },
     "execution_count": 4,
     "metadata": {},
     "output_type": "execute_result"
    }
   ],
   "source": [
    "data.headers"
   ]
  },
  {
   "cell_type": "code",
   "execution_count": 5,
   "id": "00c61142",
   "metadata": {},
   "outputs": [
    {
     "data": {
      "text/plain": [
       "b'[{\"id\":1,\"email\":\"sonuvishwa021@gmail.com\",\"message\":\"hello\"},{\"id\":2,\"email\":\"sonuvishwa021@gmail.com\",\"message\":\"hello\"},{\"id\":3,\"email\":\"vishwakarmaart91@gmail.con\",\"message\":\"hello\"},{\"id\":4,\"email\":\"sonuvishwa021@gmail.com\",\"message\":\"dsfghngfds r dfg dsfg dfg fdg fdg fdghs hdf\"},{\"id\":5,\"email\":\"sonuvishwa021@gmail.com\",\"message\":\"sdf\"},{\"id\":6,\"email\":\"sonuvishwa021@gmail.com\",\"message\":\"sdfds\"},{\"id\":7,\"email\":\"sonuvishwa021@gmail.com\",\"message\":\"sdjf\"},{\"id\":8,\"email\":\"sonuvishwa021@gmail.com\",\"message\":\"8\"},{\"id\":9,\"email\":\"sonuvishwa021@gmail.com\",\"message\":\"8\"},{\"id\":10,\"email\":\"sonuvishwa021@gmail.com\",\"message\":\"dsf\"},{\"id\":11,\"email\":\"sonuvishwa021@gmail.com\",\"message\":\"dsf\"},{\"id\":12,\"email\":\"sonuvishwa021@gmail.com\",\"message\":\"dsf\"},{\"id\":13,\"email\":\"sonuvishwa021@gmail.com\",\"message\":\"dsf\"},{\"id\":14,\"email\":\"vishwakarmaart91@gmail.con\",\"message\":\"dsf\"},{\"id\":15,\"email\":\"sonuvishwa021@gmail.com\",\"message\":\"58\"},{\"id\":16,\"email\":\"sonuvishwa021@gmail.com\",\"message\":\"sdf\"},{\"id\":17,\"email\":\"sonuvishwa021@gmail.com\",\"message\":\"sdf\"},{\"id\":18,\"email\":\"sonuvishwa021@gmail.com\",\"message\":\"dsf\"},{\"id\":19,\"email\":\"sonuvishwa021@gmail.com\",\"message\":\"sdf\"},{\"id\":20,\"email\":\"sonuvishwa021@gmail.com\",\"message\":\"sdf\"},{\"id\":21,\"email\":\"sonuvishwa021@gmail.com\",\"message\":\"sdf\"},{\"id\":22,\"email\":\"sonuvishwa021@gmail.com\",\"message\":\"dsf\"},{\"id\":23,\"email\":\"sonuvishwa021@gmail.com\",\"message\":\"sdf\"},{\"id\":24,\"email\":\"sonuvishwa021@gmail.com\",\"message\":\"sdfadf\"},{\"id\":25,\"email\":\"sonuvishwa021@gmail.com\",\"message\":\"asdfds\"},{\"id\":26,\"email\":\"sonuvishwa021@gmail.com\",\"message\":\"sdaf\"},{\"id\":27,\"email\":\"sonuvishwa021@gmail.com\",\"message\":\"asdf\"},{\"id\":28,\"email\":\"sonuvishwa021@gmail.com\",\"message\":\"sdf\"},{\"id\":29,\"email\":\"sonuvishwa021@gmail.com\",\"message\":\"sdf\"},{\"id\":30,\"email\":\"sonuvishwa021@gmail.com\",\"message\":\"df\"},{\"id\":31,\"email\":\"sonuvishwa021@gmail.com\",\"message\":\"j\"},{\"id\":32,\"email\":\"sonuvishwa021@gmail.com\",\"message\":\"kl\"},{\"id\":33,\"email\":\"sonuvishwa021@gmail.com\",\"message\":\"dsf\"},{\"id\":34,\"email\":\"sonuvishwa021@gmail.com\",\"message\":\"dsf\"},{\"id\":35,\"email\":\"sonuvishwa021@gmail.com\",\"message\":\"sdf\"},{\"id\":36,\"email\":\"sonuvishwa021@gmail.com\",\"message\":\"sdf\"},{\"id\":37,\"email\":\"sonuvishwa021@gmail.com\",\"message\":\"sdfasdfklsdjfklnsd kldsf djslfj ldsjlf kldsfksdn ksd kds\"},{\"id\":38,\"email\":\"sonuvishwa021@gmail.comqwe\",\"message\":\"fghf\"},{\"id\":39,\"email\":\"sonuvishwa021@gmail.com\",\"message\":\"sdfdsf\"},{\"id\":40,\"email\":\"sonuvishwa021@gmail.com\",\"message\":\"Zxcv\"},{\"id\":41,\"email\":\"sonuvishwa021@gmail.comqwex\",\"message\":\"vcxvcxzvdsgB\"},{\"id\":42,\"email\":\"sonuvishwa021@gmail.comqwex\",\"message\":\"vcxvcxzvdsgB\"},{\"id\":43,\"email\":\"sonuvishwa021@gmail.comqwex\",\"message\":\"vcxvcxzvdsgB\"},{\"id\":44,\"email\":\"sonuvishwa021@gmail.comqwex\",\"message\":\"vcxvcxzvdsgB\"},{\"id\":45,\"email\":\"sonuvishwa021@gmail.com\",\"message\":\"fdfgthjk\"},{\"id\":46,\"email\":\"sonuvishwa021@gmail.com\",\"message\":\"fdfgthjk\"},{\"id\":47,\"email\":\"sonuvishwa021@gmail.com\",\"message\":\"fdfgthjk\"},{\"id\":48,\"email\":\"sonuvishwa021@gmail.com\",\"message\":\"fdfgthjk\"},{\"id\":49,\"email\":\"sonuvishwa021@gmail.com\",\"message\":\"fdfgthjk\"},{\"id\":50,\"email\":\"sonuvishwa021@gmail.com\",\"message\":\"fdfgthjk\"},{\"id\":51,\"email\":\"sonuvishwa021@gmail.com\",\"message\":\"fdfgthjk\"},{\"id\":52,\"email\":\"sonuvishwa021@gmail.com\",\"message\":\"fdfgthjk\"},{\"id\":53,\"email\":\"sonuvishwa021@gmail.com\",\"message\":\"fdfgthjk\"},{\"id\":54,\"email\":\"sonuvishwa021@gmail.com\",\"message\":\"fdfgthjk\"},{\"id\":55,\"email\":\"sonuvishwa021@gmail.com\",\"message\":\"fdfgthjk\"},{\"id\":56,\"email\":\"sonuvishwa021@gmail.com\",\"message\":\"fdfgthjk\"},{\"id\":57,\"email\":\"sonuvishwa021@gmail.com\",\"message\":\"fdfgthjk\"},{\"id\":58,\"email\":\"sonuvishwa021@gmail.com\",\"message\":\"fdfgthjk\"},{\"id\":59,\"email\":\"sonuvishwa021@gmail.com\",\"message\":\"42\"},{\"id\":60,\"email\":\"sonuvishwa021@gmail.com\",\"message\":\"jk\"},{\"id\":61,\"email\":\"sonuvishwa021@gmail.com\",\"message\":\"jk\"},{\"id\":62,\"email\":\"sonuvishwa021@gmail.com\",\"message\":\"jk\"},{\"id\":63,\"email\":\"sonuvishwa021@gmail.com\",\"message\":\"jk\"}]'"
      ]
     },
     "execution_count": 5,
     "metadata": {},
     "output_type": "execute_result"
    }
   ],
   "source": [
    "data.content"
   ]
  },
  {
   "cell_type": "code",
   "execution_count": 6,
   "id": "d6045a8e",
   "metadata": {},
   "outputs": [],
   "source": [
    "df =data.json()"
   ]
  },
  {
   "cell_type": "code",
   "execution_count": 7,
   "id": "13ad6a44",
   "metadata": {},
   "outputs": [],
   "source": [
    "d = pd.DataFrame(df)"
   ]
  },
  {
   "cell_type": "code",
   "execution_count": 8,
   "id": "4f23ac1c",
   "metadata": {},
   "outputs": [
    {
     "data": {
      "text/html": [
       "<div>\n",
       "<style scoped>\n",
       "    .dataframe tbody tr th:only-of-type {\n",
       "        vertical-align: middle;\n",
       "    }\n",
       "\n",
       "    .dataframe tbody tr th {\n",
       "        vertical-align: top;\n",
       "    }\n",
       "\n",
       "    .dataframe thead th {\n",
       "        text-align: right;\n",
       "    }\n",
       "</style>\n",
       "<table border=\"1\" class=\"dataframe\">\n",
       "  <thead>\n",
       "    <tr style=\"text-align: right;\">\n",
       "      <th></th>\n",
       "      <th>id</th>\n",
       "      <th>email</th>\n",
       "      <th>message</th>\n",
       "    </tr>\n",
       "  </thead>\n",
       "  <tbody>\n",
       "    <tr>\n",
       "      <th>1</th>\n",
       "      <td>2</td>\n",
       "      <td>sonuvishwa021@gmail.com</td>\n",
       "      <td>hello</td>\n",
       "    </tr>\n",
       "  </tbody>\n",
       "</table>\n",
       "</div>"
      ],
      "text/plain": [
       "   id                    email message\n",
       "1   2  sonuvishwa021@gmail.com   hello"
      ]
     },
     "execution_count": 8,
     "metadata": {},
     "output_type": "execute_result"
    }
   ],
   "source": [
    "\n",
    "d[d['id']==2]"
   ]
  },
  {
   "cell_type": "code",
   "execution_count": 9,
   "id": "195df9ed",
   "metadata": {},
   "outputs": [
    {
     "data": {
      "text/html": [
       "<div>\n",
       "<style scoped>\n",
       "    .dataframe tbody tr th:only-of-type {\n",
       "        vertical-align: middle;\n",
       "    }\n",
       "\n",
       "    .dataframe tbody tr th {\n",
       "        vertical-align: top;\n",
       "    }\n",
       "\n",
       "    .dataframe thead th {\n",
       "        text-align: right;\n",
       "    }\n",
       "</style>\n",
       "<table border=\"1\" class=\"dataframe\">\n",
       "  <thead>\n",
       "    <tr style=\"text-align: right;\">\n",
       "      <th></th>\n",
       "      <th>id</th>\n",
       "      <th>email</th>\n",
       "      <th>message</th>\n",
       "    </tr>\n",
       "  </thead>\n",
       "  <tbody>\n",
       "    <tr>\n",
       "      <th>0</th>\n",
       "      <td>1</td>\n",
       "      <td>sonuvishwa021@gmail.com</td>\n",
       "      <td>hello</td>\n",
       "    </tr>\n",
       "    <tr>\n",
       "      <th>1</th>\n",
       "      <td>2</td>\n",
       "      <td>sonuvishwa021@gmail.com</td>\n",
       "      <td>hello</td>\n",
       "    </tr>\n",
       "    <tr>\n",
       "      <th>3</th>\n",
       "      <td>4</td>\n",
       "      <td>sonuvishwa021@gmail.com</td>\n",
       "      <td>dsfghngfds r dfg dsfg dfg fdg fdg fdghs hdf</td>\n",
       "    </tr>\n",
       "    <tr>\n",
       "      <th>4</th>\n",
       "      <td>5</td>\n",
       "      <td>sonuvishwa021@gmail.com</td>\n",
       "      <td>sdf</td>\n",
       "    </tr>\n",
       "    <tr>\n",
       "      <th>5</th>\n",
       "      <td>6</td>\n",
       "      <td>sonuvishwa021@gmail.com</td>\n",
       "      <td>sdfds</td>\n",
       "    </tr>\n",
       "  </tbody>\n",
       "</table>\n",
       "</div>"
      ],
      "text/plain": [
       "   id                    email                                      message\n",
       "0   1  sonuvishwa021@gmail.com                                        hello\n",
       "1   2  sonuvishwa021@gmail.com                                        hello\n",
       "3   4  sonuvishwa021@gmail.com  dsfghngfds r dfg dsfg dfg fdg fdg fdghs hdf\n",
       "4   5  sonuvishwa021@gmail.com                                          sdf\n",
       "5   6  sonuvishwa021@gmail.com                                        sdfds"
      ]
     },
     "execution_count": 9,
     "metadata": {},
     "output_type": "execute_result"
    }
   ],
   "source": [
    "d[d['email']=='sonuvishwa021@gmail.com'].head(5)"
   ]
  },
  {
   "cell_type": "code",
   "execution_count": 14,
   "id": "dbd7ef70",
   "metadata": {},
   "outputs": [
    {
     "name": "stdout",
     "output_type": "stream",
     "text": [
      "Welcome to Vishwakarma Art Query Solution.\n",
      "Search query by ID or E-mail ID\n",
      "id\n",
      "5\n"
     ]
    },
    {
     "data": {
      "text/html": [
       "<div>\n",
       "<style scoped>\n",
       "    .dataframe tbody tr th:only-of-type {\n",
       "        vertical-align: middle;\n",
       "    }\n",
       "\n",
       "    .dataframe tbody tr th {\n",
       "        vertical-align: top;\n",
       "    }\n",
       "\n",
       "    .dataframe thead th {\n",
       "        text-align: right;\n",
       "    }\n",
       "</style>\n",
       "<table border=\"1\" class=\"dataframe\">\n",
       "  <thead>\n",
       "    <tr style=\"text-align: right;\">\n",
       "      <th></th>\n",
       "      <th>id</th>\n",
       "      <th>email</th>\n",
       "      <th>message</th>\n",
       "    </tr>\n",
       "  </thead>\n",
       "  <tbody>\n",
       "    <tr>\n",
       "      <th>4</th>\n",
       "      <td>5</td>\n",
       "      <td>sonuvishwa021@gmail.com</td>\n",
       "      <td>sdf</td>\n",
       "    </tr>\n",
       "  </tbody>\n",
       "</table>\n",
       "</div>"
      ],
      "text/plain": [
       "   id                    email message\n",
       "4   5  sonuvishwa021@gmail.com     sdf"
      ]
     },
     "execution_count": 14,
     "metadata": {},
     "output_type": "execute_result"
    }
   ],
   "source": [
    "n =0\n",
    "print(\"Welcome to Vishwakarma Art Query Solution.\\nSearch query by ID or E-mail ID\")\n",
    "a = input()\n",
    "if(a=='id'):\n",
    "    ids = int(input())\n",
    "    n=(d[d['id']==ids])\n",
    "elif(a =='email'):\n",
    "    emails = input()\n",
    "    n=(d[d['email']==emails])\n",
    "else:\n",
    "    print(\"Please enter proper keyword.\")\n",
    "n"
   ]
  },
  {
   "cell_type": "code",
   "execution_count": 21,
   "id": "6abf0676",
   "metadata": {},
   "outputs": [],
   "source": [
    "n ='4'"
   ]
  },
  {
   "cell_type": "code",
   "execution_count": 22,
   "id": "64b31359",
   "metadata": {},
   "outputs": [
    {
     "data": {
      "text/plain": [
       "True"
      ]
     },
     "execution_count": 22,
     "metadata": {},
     "output_type": "execute_result"
    }
   ],
   "source": [
    "n.isnumeric()"
   ]
  },
  {
   "cell_type": "code",
   "execution_count": 26,
   "id": "df838db5",
   "metadata": {},
   "outputs": [
    {
     "name": "stdout",
     "output_type": "stream",
     "text": [
      "Welcome to Vishwakarma Art Query Solution.\n",
      "Search query by ID or E-mail ID\n",
      "8\n"
     ]
    },
    {
     "data": {
      "text/html": [
       "<div>\n",
       "<style scoped>\n",
       "    .dataframe tbody tr th:only-of-type {\n",
       "        vertical-align: middle;\n",
       "    }\n",
       "\n",
       "    .dataframe tbody tr th {\n",
       "        vertical-align: top;\n",
       "    }\n",
       "\n",
       "    .dataframe thead th {\n",
       "        text-align: right;\n",
       "    }\n",
       "</style>\n",
       "<table border=\"1\" class=\"dataframe\">\n",
       "  <thead>\n",
       "    <tr style=\"text-align: right;\">\n",
       "      <th></th>\n",
       "      <th>id</th>\n",
       "      <th>email</th>\n",
       "      <th>message</th>\n",
       "    </tr>\n",
       "  </thead>\n",
       "  <tbody>\n",
       "    <tr>\n",
       "      <th>7</th>\n",
       "      <td>8</td>\n",
       "      <td>sonuvishwa021@gmail.com</td>\n",
       "      <td>8</td>\n",
       "    </tr>\n",
       "  </tbody>\n",
       "</table>\n",
       "</div>"
      ],
      "text/plain": [
       "   id                    email message\n",
       "7   8  sonuvishwa021@gmail.com       8"
      ]
     },
     "execution_count": 26,
     "metadata": {},
     "output_type": "execute_result"
    }
   ],
   "source": [
    "n =0\n",
    "print(\"Welcome to Vishwakarma Art Query Solution.\\nSearch query by ID or E-mail ID\")\n",
    "a = input()\n",
    "if(a.isnumeric()):\n",
    "    ids = int(a)\n",
    "    n=(d[d['id']==ids])\n",
    "    \n",
    "elif(a.isnumeric()==False):\n",
    "    emails = a\n",
    "    n=(d[d['email']==emails])\n",
    "else:\n",
    "    print(\"Please enter proper keyword.\")\n",
    "n"
   ]
  },
  {
   "cell_type": "code",
   "execution_count": null,
   "id": "df597294",
   "metadata": {},
   "outputs": [],
   "source": []
  }
 ],
 "metadata": {
  "kernelspec": {
   "display_name": "Python 3 (ipykernel)",
   "language": "python",
   "name": "python3"
  },
  "language_info": {
   "codemirror_mode": {
    "name": "ipython",
    "version": 3
   },
   "file_extension": ".py",
   "mimetype": "text/x-python",
   "name": "python",
   "nbconvert_exporter": "python",
   "pygments_lexer": "ipython3",
   "version": "3.8.3"
  }
 },
 "nbformat": 4,
 "nbformat_minor": 5
}
