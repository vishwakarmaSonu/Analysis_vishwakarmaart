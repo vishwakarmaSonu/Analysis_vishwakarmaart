{
 "cells": [
  {
   "cell_type": "code",
   "execution_count": 1,
   "id": "d52dbc1c",
   "metadata": {},
   "outputs": [],
   "source": [
    "import numpy as np\n",
    "import pandas as pd\n",
    "import requests\n"
   ]
  },
  {
   "cell_type": "code",
   "execution_count": 73,
   "id": "a2e8c71d",
   "metadata": {},
   "outputs": [],
   "source": [
    "res = requests.get('https://vishwakarmaartspaymentapi.pythonanywhere.com/api/booking/')"
   ]
  },
  {
   "cell_type": "code",
   "execution_count": 3,
   "id": "4b186a0f",
   "metadata": {},
   "outputs": [
    {
     "data": {
      "text/plain": [
       "<Response [200]>"
      ]
     },
     "execution_count": 3,
     "metadata": {},
     "output_type": "execute_result"
    }
   ],
   "source": [
    "res"
   ]
  },
  {
   "cell_type": "code",
   "execution_count": 5,
   "id": "e1daf5ee",
   "metadata": {},
   "outputs": [
    {
     "data": {
      "text/plain": [
       "{'Date': 'Mon, 25 Mar 2024 15:47:36 GMT', 'Content-Type': 'application/json', 'Transfer-Encoding': 'chunked', 'Connection': 'keep-alive', 'Vary': 'Accept-Encoding, Accept, Cookie, origin', 'Allow': 'GET, POST, HEAD, OPTIONS', 'X-Frame-Options': 'DENY', 'X-Content-Type-Options': 'nosniff', 'Referrer-Policy': 'same-origin', 'Cross-Origin-Opener-Policy': 'same-origin', 'X-Clacks-Overhead': 'GNU Terry Pratchett', 'Content-Encoding': 'gzip', 'Server': 'PythonAnywhere'}"
      ]
     },
     "execution_count": 5,
     "metadata": {},
     "output_type": "execute_result"
    }
   ],
   "source": [
    "res.headers"
   ]
  },
  {
   "cell_type": "code",
   "execution_count": 7,
   "id": "7b1ec595",
   "metadata": {},
   "outputs": [
    {
     "data": {
      "text/plain": [
       "b'[{\"id\":1,\"name\":\"Sonu Vishwakarma\",\"phone\":\"9588938688\",\"email\":\"sonuvishwa021@gmail.com\",\"address\":\"fgh\",\"image_details\":\"hjk\"},{\"id\":2,\"name\":\"asdf\",\"phone\":\"9588938688\",\"email\":\"sonuvishwa021@gmail.com\",\"address\":\"sdf\",\"image_details\":\"{\\\\\"title\\\\\":\\\\\"Sideboard Cabinet\\\\\",\\\\\"productid\\\\\":\\\\\"Product id 105\\\\\"}\"},{\"id\":3,\"name\":\"sonu\",\"phone\":\"454\",\"email\":\"asdf@gmail.com\",\"address\":\"sdf\",\"image_details\":\"{\\\\\"title\\\\\":\\\\\"Sideboard Cabinet\\\\\",\\\\\"productid\\\\\":\\\\\"Product id 105\\\\\"}\"},{\"id\":4,\"name\":\"asdf\",\"phone\":\"454\",\"email\":\"sonuvishwa021@gmail.com\",\"address\":\"sdf\",\"image_details\":\"{\\\\\"title\\\\\":\\\\\"Sideboard\\\\\",\\\\\"productid\\\\\":\\\\\"Product id 101\\\\\"}\"},{\"id\":5,\"name\":\"Sonu Vishwakarma\",\"phone\":\"9588938688\",\"email\":\"asdf@gmail.com\",\"address\":\"sdf\",\"image_details\":\"{\\\\\"title\\\\\":\\\\\"sideboard\\\\\",\\\\\"productid\\\\\":\\\\\"Product id 103\\\\\"}\"},{\"id\":6,\"name\":\"Sonu Vishwakarma\",\"phone\":\"9588938688\",\"email\":\"sonuvishwa021@gmail.com\",\"address\":\"dfds\",\"image_details\":\"sd\"},{\"id\":7,\"name\":\"Sonu Vishwakarma\",\"phone\":\"9588938688\",\"email\":\"sonuvishwa021@gmail.com\",\"address\":\"dsf\",\"image_details\":\"dsf\"},{\"id\":8,\"name\":\"mohan\",\"phone\":\"958893869653\",\"email\":\"asdf@gmail.com\",\"address\":\"dsf\",\"image_details\":\"324\"},{\"id\":9,\"name\":\"SONU\",\"phone\":\"8655\",\"email\":\"sonuvishwa021@gmail.com\",\"address\":\"Gyy7ffuxyufvjgu\",\"image_details\":\"{\\\\\"title\\\\\":\\\\\"Mirror with Cabinet\\\\\",\\\\\"productid\\\\\":\\\\\"Product id 107\\\\\"}\"},{\"id\":10,\"name\":\"SONU\",\"phone\":\"86853899\",\"email\":\"sonuvishwa021@gmail.com\",\"address\":\"Gyy7ffuxyufvjgu\",\"image_details\":\"{\\\\\"title\\\\\":\\\\\"Mirror with Cabinet\\\\\",\\\\\"productid\\\\\":\\\\\"Product id 101\\\\\"}\"},{\"id\":11,\"name\":\"SONU\",\"phone\":\"86853899\",\"email\":\"sonuvishwa021@gmail.com\",\"address\":\"Gyy7ffuxyufvjgu\",\"image_details\":\"{\\\\\"title\\\\\":\\\\\"Mirror with Cabinet\\\\\",\\\\\"productid\\\\\":\\\\\"Product id 107\\\\\"}\"},{\"id\":12,\"name\":\"Arien Jangid\",\"phone\":\"7568437153\",\"email\":\"jangidarien918@gmail.com\",\"address\":\"ajmer\",\"image_details\":\"{\\\\\"title\\\\\":\\\\\"Coffee Table\\\\\",\\\\\"productid\\\\\":\\\\\"Product id 101\\\\\"}\"},{\"id\":13,\"name\":\"SONU\",\"phone\":\"86853899\",\"email\":\"sonuvishwa021@gmail.com\",\"address\":\"Gyy7ffuxyufvjgu\",\"image_details\":\"{\\\\\"title\\\\\":\\\\\"Mirror with Cabinet\\\\\",\\\\\"productid\\\\\":\\\\\"Product id 101\\\\\"}\"},{\"id\":14,\"name\":\"SONU fhui\",\"phone\":\"9588938688\",\"email\":\"sonuvishwa021@gmail.com\",\"address\":\"Gyy7ffuxyufvjgu\",\"image_details\":\"{\\\\\"title\\\\\":\\\\\"Wooden Temple\\\\\",\\\\\"productid\\\\\":\\\\\"Product id 112\\\\\"}\"},{\"id\":15,\"name\":\"Sonu Vishwakarma\",\"phone\":\"9588938688\",\"email\":\"sonuvishwa021@gmail.com\",\"address\":\"sdf\",\"image_details\":\"{\\\\\"title\\\\\":\\\\\"Shoe Rack\\\\\",\\\\\"productid\\\\\":\\\\\"Product id 101\\\\\"}\"},{\"id\":16,\"name\":\"Sonu Vishwakarma\",\"phone\":\"454\",\"email\":\"sonuvishwa021@gmail.com\",\"address\":\"sdf\",\"image_details\":\"{\\\\\"title\\\\\":\\\\\"Coffee Table\\\\\",\\\\\"productid\\\\\":\\\\\"Product id 105\\\\\"}\"},{\"id\":17,\"name\":\"SONU\",\"phone\":\"9588938688\",\"email\":\"sonuvishwa021@gmail.com\",\"address\":\"Gyy7ffuxyufvjgu\",\"image_details\":\"{\\\\\"title\\\\\":\\\\\"Shoe Rack\\\\\",\\\\\"productid\\\\\":\\\\\"Product id 105\\\\\"}\"},{\"id\":18,\"name\":\"Sonu Vishwakarma\",\"phone\":\"9588938688\",\"email\":\"sonuvishwa021@gmail.com\",\"address\":\"sdf\",\"image_details\":\"{\\\\\"title\\\\\":\\\\\"Shoe Rack\\\\\",\\\\\"productid\\\\\":\\\\\"Product id 101\\\\\"}\"},{\"id\":19,\"name\":\"Sonu Vishwakarma\",\"phone\":\"9588938688\",\"email\":\"sonuvishwa021@gmail.com\",\"address\":\"sdf\",\"image_details\":\"{\\\\\"title\\\\\":\\\\\"Coffee Table\\\\\",\\\\\"productid\\\\\":\\\\\"Product id 101\\\\\"}\"},{\"id\":20,\"name\":\"Ff\",\"phone\":\"9251628649\",\"email\":\"sudhir925162@gmail.com\",\"address\":\"Gfg\",\"image_details\":\"{\\\\\"title\\\\\":\\\\\"Wooden Temple\\\\\",\\\\\"productid\\\\\":\\\\\"Product id 113\\\\\"}\"},{\"id\":21,\"name\":\"Sonu Vishwakarma\",\"phone\":\"9588938688\",\"email\":\"sonuvishwa021@gmail.com\",\"address\":\"sdf\",\"image_details\":\"{\\\\\"title\\\\\":\\\\\"Mirror with Cabinet\\\\\",\\\\\"productid\\\\\":\\\\\"Product id 101\\\\\"}\"},{\"id\":22,\"name\":\"rahul\",\"phone\":\"325332\",\"email\":\"rahul@gmail.com\",\"address\":\"sdfds\",\"image_details\":\"{\\\\\"title\\\\\":\\\\\"Mirror with Cabinet\\\\\",\\\\\"productid\\\\\":\\\\\"Product id 101\\\\\"}\"},{\"id\":23,\"name\":\"Sonu Vishwakarma\",\"phone\":\"9588938688\",\"email\":\"sonuvishwa021@gmail.com\",\"address\":\"sdf\",\"image_details\":\"{\\\\\"title\\\\\":\\\\\"Mirror with Cabinet\\\\\",\\\\\"productid\\\\\":\\\\\"Product id 101\\\\\"}\"},{\"id\":24,\"name\":\"Sonu Vishwakarma\",\"phone\":\"9588938688\",\"email\":\"sonuvishwa021@gmail.com\",\"address\":\"sdf\",\"image_details\":\"{\\\\\"title\\\\\":\\\\\"Bed\\\\\",\\\\\"productid\\\\\":\\\\\"Product id 112\\\\\"}\"},{\"id\":25,\"name\":\"asdf\",\"phone\":\"9588938688\",\"email\":\"sonuvishwa021@gmail.com\",\"address\":\"sdf\",\"image_details\":\"{\\\\\"title\\\\\":\\\\\"Sideboard Cabinet\\\\\",\\\\\"productid\\\\\":\\\\\"Product id 110\\\\\"}\"},{\"id\":26,\"name\":\"SONU fhui\",\"phone\":\"86853899\",\"email\":\"arya95889sonu@gmail.com\",\"address\":\"Gyy7ffuxyufvjgu\",\"image_details\":\"{\\\\\"title\\\\\":\\\\\"Shoe Rack\\\\\",\\\\\"productid\\\\\":\\\\\"Product id 106\\\\\"}\"},{\"id\":27,\"name\":\"Mohit\",\"phone\":\"9588938688\",\"email\":\"arya95889sonu@gmail.com\",\"address\":\"K.k.conoly basni jhodpur\",\"image_details\":\"{\\\\\"title\\\\\":\\\\\"Coffee Table\\\\\",\\\\\"productid\\\\\":\\\\\"Product id 105\\\\\"}\"},{\"id\":28,\"name\":\"sheetal\",\"phone\":\"958893869653\",\"email\":\"sonuvishwa021@gmail.com\",\"address\":\"sdf\",\"image_details\":\"{\\\\\"title\\\\\":\\\\\"Coffee Table\\\\\",\\\\\"productid\\\\\":\\\\\"Product id 105\\\\\"}\"},{\"id\":29,\"name\":\"sheetal\",\"phone\":\"958893869653\",\"email\":\"sonuvishwa021@gmail.com\",\"address\":\"sdf\",\"image_details\":\"{\\\\\"title\\\\\":\\\\\"Coffee Table\\\\\",\\\\\"productid\\\\\":\\\\\"Product id 105\\\\\"}\"},{\"id\":30,\"name\":\"SONU\",\"phone\":\"9588938688\",\"email\":\"sonuvishwa021@gmail.com\",\"address\":\"Gyy7ffuxyufvjgu\",\"image_details\":\"{\\\\\"title\\\\\":\\\\\"Wooden Temple\\\\\",\\\\\"productid\\\\\":\\\\\"Product id 113\\\\\"}\"},{\"id\":31,\"name\":\"SONU fhui\",\"phone\":\"9588938688\",\"email\":\"sonuvishwa021@gmail.com\",\"address\":\"Gyy7\",\"image_details\":\"{\\\\\"title\\\\\":\\\\\"Mirror with Cabinet\\\\\",\\\\\"productid\\\\\":\\\\\"Product id 101\\\\\"}\"},{\"id\":32,\"name\":\"SONU\",\"phone\":\"86853899\",\"email\":\"sonuvishwa021@gmail.com\",\"address\":\"Gyy7ffuxyufvjgu\",\"image_details\":\"{\\\\\"title\\\\\":\\\\\"Mirror with Cabinet\\\\\",\\\\\"productid\\\\\":\\\\\"Product id 101\\\\\"}\"},{\"id\":33,\"name\":\"Fg\",\"phone\":\"9588938688\",\"email\":\"sonuvishwa021@gmail.com\",\"address\":\"Gyy7ffuxyufvjgu\",\"image_details\":\"{\\\\\"title\\\\\":\\\\\"Mirror with Cabinet\\\\\",\\\\\"productid\\\\\":\\\\\"Product id 104\\\\\"}\"},{\"id\":34,\"name\":\"Sonu Vishwakarma\",\"phone\":\"454\",\"email\":\"sonuvishwa021@gmail.com\",\"address\":\"sdf\",\"image_details\":\"{\\\\\"title\\\\\":\\\\\"Coffee Table\\\\\",\\\\\"productid\\\\\":\\\\\"Product id 102\\\\\"}\"}]'"
      ]
     },
     "execution_count": 7,
     "metadata": {},
     "output_type": "execute_result"
    }
   ],
   "source": [
    "res.content"
   ]
  },
  {
   "cell_type": "code",
   "execution_count": 74,
   "id": "0c925b05",
   "metadata": {},
   "outputs": [],
   "source": [
    "data = res.json()"
   ]
  },
  {
   "cell_type": "code",
   "execution_count": 75,
   "id": "bc1eaaf7",
   "metadata": {},
   "outputs": [
    {
     "data": {
      "text/plain": [
       "[{'id': 1,\n",
       "  'name': 'Sonu Vishwakarma',\n",
       "  'phone': '9588938688',\n",
       "  'email': 'sonuvishwa021@gmail.com',\n",
       "  'address': 'fgh',\n",
       "  'image_details': 'hjk'},\n",
       " {'id': 2,\n",
       "  'name': 'asdf',\n",
       "  'phone': '9588938688',\n",
       "  'email': 'sonuvishwa021@gmail.com',\n",
       "  'address': 'sdf',\n",
       "  'image_details': '{\"title\":\"Sideboard Cabinet\",\"productid\":\"Product id 105\"}'},\n",
       " {'id': 3,\n",
       "  'name': 'sonu',\n",
       "  'phone': '454',\n",
       "  'email': 'asdf@gmail.com',\n",
       "  'address': 'sdf',\n",
       "  'image_details': '{\"title\":\"Sideboard Cabinet\",\"productid\":\"Product id 105\"}'},\n",
       " {'id': 4,\n",
       "  'name': 'asdf',\n",
       "  'phone': '454',\n",
       "  'email': 'sonuvishwa021@gmail.com',\n",
       "  'address': 'sdf',\n",
       "  'image_details': '{\"title\":\"Sideboard\",\"productid\":\"Product id 101\"}'},\n",
       " {'id': 5,\n",
       "  'name': 'Sonu Vishwakarma',\n",
       "  'phone': '9588938688',\n",
       "  'email': 'asdf@gmail.com',\n",
       "  'address': 'sdf',\n",
       "  'image_details': '{\"title\":\"sideboard\",\"productid\":\"Product id 103\"}'},\n",
       " {'id': 6,\n",
       "  'name': 'Sonu Vishwakarma',\n",
       "  'phone': '9588938688',\n",
       "  'email': 'sonuvishwa021@gmail.com',\n",
       "  'address': 'dfds',\n",
       "  'image_details': 'sd'},\n",
       " {'id': 7,\n",
       "  'name': 'Sonu Vishwakarma',\n",
       "  'phone': '9588938688',\n",
       "  'email': 'sonuvishwa021@gmail.com',\n",
       "  'address': 'dsf',\n",
       "  'image_details': 'dsf'},\n",
       " {'id': 8,\n",
       "  'name': 'mohan',\n",
       "  'phone': '958893869653',\n",
       "  'email': 'asdf@gmail.com',\n",
       "  'address': 'dsf',\n",
       "  'image_details': '324'},\n",
       " {'id': 9,\n",
       "  'name': 'SONU',\n",
       "  'phone': '8655',\n",
       "  'email': 'sonuvishwa021@gmail.com',\n",
       "  'address': 'Gyy7ffuxyufvjgu',\n",
       "  'image_details': '{\"title\":\"Mirror with Cabinet\",\"productid\":\"Product id 107\"}'},\n",
       " {'id': 10,\n",
       "  'name': 'SONU',\n",
       "  'phone': '86853899',\n",
       "  'email': 'sonuvishwa021@gmail.com',\n",
       "  'address': 'Gyy7ffuxyufvjgu',\n",
       "  'image_details': '{\"title\":\"Mirror with Cabinet\",\"productid\":\"Product id 101\"}'},\n",
       " {'id': 11,\n",
       "  'name': 'SONU',\n",
       "  'phone': '86853899',\n",
       "  'email': 'sonuvishwa021@gmail.com',\n",
       "  'address': 'Gyy7ffuxyufvjgu',\n",
       "  'image_details': '{\"title\":\"Mirror with Cabinet\",\"productid\":\"Product id 107\"}'},\n",
       " {'id': 12,\n",
       "  'name': 'Arien Jangid',\n",
       "  'phone': '7568437153',\n",
       "  'email': 'jangidarien918@gmail.com',\n",
       "  'address': 'ajmer',\n",
       "  'image_details': '{\"title\":\"Coffee Table\",\"productid\":\"Product id 101\"}'},\n",
       " {'id': 13,\n",
       "  'name': 'SONU',\n",
       "  'phone': '86853899',\n",
       "  'email': 'sonuvishwa021@gmail.com',\n",
       "  'address': 'Gyy7ffuxyufvjgu',\n",
       "  'image_details': '{\"title\":\"Mirror with Cabinet\",\"productid\":\"Product id 101\"}'},\n",
       " {'id': 14,\n",
       "  'name': 'SONU fhui',\n",
       "  'phone': '9588938688',\n",
       "  'email': 'sonuvishwa021@gmail.com',\n",
       "  'address': 'Gyy7ffuxyufvjgu',\n",
       "  'image_details': '{\"title\":\"Wooden Temple\",\"productid\":\"Product id 112\"}'},\n",
       " {'id': 15,\n",
       "  'name': 'Sonu Vishwakarma',\n",
       "  'phone': '9588938688',\n",
       "  'email': 'sonuvishwa021@gmail.com',\n",
       "  'address': 'sdf',\n",
       "  'image_details': '{\"title\":\"Shoe Rack\",\"productid\":\"Product id 101\"}'},\n",
       " {'id': 16,\n",
       "  'name': 'Sonu Vishwakarma',\n",
       "  'phone': '454',\n",
       "  'email': 'sonuvishwa021@gmail.com',\n",
       "  'address': 'sdf',\n",
       "  'image_details': '{\"title\":\"Coffee Table\",\"productid\":\"Product id 105\"}'},\n",
       " {'id': 17,\n",
       "  'name': 'SONU',\n",
       "  'phone': '9588938688',\n",
       "  'email': 'sonuvishwa021@gmail.com',\n",
       "  'address': 'Gyy7ffuxyufvjgu',\n",
       "  'image_details': '{\"title\":\"Shoe Rack\",\"productid\":\"Product id 105\"}'},\n",
       " {'id': 18,\n",
       "  'name': 'Sonu Vishwakarma',\n",
       "  'phone': '9588938688',\n",
       "  'email': 'sonuvishwa021@gmail.com',\n",
       "  'address': 'sdf',\n",
       "  'image_details': '{\"title\":\"Shoe Rack\",\"productid\":\"Product id 101\"}'},\n",
       " {'id': 19,\n",
       "  'name': 'Sonu Vishwakarma',\n",
       "  'phone': '9588938688',\n",
       "  'email': 'sonuvishwa021@gmail.com',\n",
       "  'address': 'sdf',\n",
       "  'image_details': '{\"title\":\"Coffee Table\",\"productid\":\"Product id 101\"}'},\n",
       " {'id': 20,\n",
       "  'name': 'Ff',\n",
       "  'phone': '9251628649',\n",
       "  'email': 'sudhir925162@gmail.com',\n",
       "  'address': 'Gfg',\n",
       "  'image_details': '{\"title\":\"Wooden Temple\",\"productid\":\"Product id 113\"}'},\n",
       " {'id': 21,\n",
       "  'name': 'Sonu Vishwakarma',\n",
       "  'phone': '9588938688',\n",
       "  'email': 'sonuvishwa021@gmail.com',\n",
       "  'address': 'sdf',\n",
       "  'image_details': '{\"title\":\"Mirror with Cabinet\",\"productid\":\"Product id 101\"}'},\n",
       " {'id': 22,\n",
       "  'name': 'rahul',\n",
       "  'phone': '325332',\n",
       "  'email': 'rahul@gmail.com',\n",
       "  'address': 'sdfds',\n",
       "  'image_details': '{\"title\":\"Mirror with Cabinet\",\"productid\":\"Product id 101\"}'},\n",
       " {'id': 23,\n",
       "  'name': 'Sonu Vishwakarma',\n",
       "  'phone': '9588938688',\n",
       "  'email': 'sonuvishwa021@gmail.com',\n",
       "  'address': 'sdf',\n",
       "  'image_details': '{\"title\":\"Mirror with Cabinet\",\"productid\":\"Product id 101\"}'},\n",
       " {'id': 24,\n",
       "  'name': 'Sonu Vishwakarma',\n",
       "  'phone': '9588938688',\n",
       "  'email': 'sonuvishwa021@gmail.com',\n",
       "  'address': 'sdf',\n",
       "  'image_details': '{\"title\":\"Bed\",\"productid\":\"Product id 112\"}'},\n",
       " {'id': 25,\n",
       "  'name': 'asdf',\n",
       "  'phone': '9588938688',\n",
       "  'email': 'sonuvishwa021@gmail.com',\n",
       "  'address': 'sdf',\n",
       "  'image_details': '{\"title\":\"Sideboard Cabinet\",\"productid\":\"Product id 110\"}'},\n",
       " {'id': 26,\n",
       "  'name': 'SONU fhui',\n",
       "  'phone': '86853899',\n",
       "  'email': 'arya95889sonu@gmail.com',\n",
       "  'address': 'Gyy7ffuxyufvjgu',\n",
       "  'image_details': '{\"title\":\"Shoe Rack\",\"productid\":\"Product id 106\"}'},\n",
       " {'id': 27,\n",
       "  'name': 'Mohit',\n",
       "  'phone': '9588938688',\n",
       "  'email': 'arya95889sonu@gmail.com',\n",
       "  'address': 'K.k.conoly basni jhodpur',\n",
       "  'image_details': '{\"title\":\"Coffee Table\",\"productid\":\"Product id 105\"}'},\n",
       " {'id': 28,\n",
       "  'name': 'sheetal',\n",
       "  'phone': '958893869653',\n",
       "  'email': 'sonuvishwa021@gmail.com',\n",
       "  'address': 'sdf',\n",
       "  'image_details': '{\"title\":\"Coffee Table\",\"productid\":\"Product id 105\"}'},\n",
       " {'id': 29,\n",
       "  'name': 'sheetal',\n",
       "  'phone': '958893869653',\n",
       "  'email': 'sonuvishwa021@gmail.com',\n",
       "  'address': 'sdf',\n",
       "  'image_details': '{\"title\":\"Coffee Table\",\"productid\":\"Product id 105\"}'},\n",
       " {'id': 30,\n",
       "  'name': 'SONU',\n",
       "  'phone': '9588938688',\n",
       "  'email': 'sonuvishwa021@gmail.com',\n",
       "  'address': 'Gyy7ffuxyufvjgu',\n",
       "  'image_details': '{\"title\":\"Wooden Temple\",\"productid\":\"Product id 113\"}'},\n",
       " {'id': 31,\n",
       "  'name': 'SONU fhui',\n",
       "  'phone': '9588938688',\n",
       "  'email': 'sonuvishwa021@gmail.com',\n",
       "  'address': 'Gyy7',\n",
       "  'image_details': '{\"title\":\"Mirror with Cabinet\",\"productid\":\"Product id 101\"}'},\n",
       " {'id': 32,\n",
       "  'name': 'SONU',\n",
       "  'phone': '86853899',\n",
       "  'email': 'sonuvishwa021@gmail.com',\n",
       "  'address': 'Gyy7ffuxyufvjgu',\n",
       "  'image_details': '{\"title\":\"Mirror with Cabinet\",\"productid\":\"Product id 101\"}'},\n",
       " {'id': 33,\n",
       "  'name': 'Fg',\n",
       "  'phone': '9588938688',\n",
       "  'email': 'sonuvishwa021@gmail.com',\n",
       "  'address': 'Gyy7ffuxyufvjgu',\n",
       "  'image_details': '{\"title\":\"Mirror with Cabinet\",\"productid\":\"Product id 104\"}'},\n",
       " {'id': 34,\n",
       "  'name': 'Sonu Vishwakarma',\n",
       "  'phone': '454',\n",
       "  'email': 'sonuvishwa021@gmail.com',\n",
       "  'address': 'sdf',\n",
       "  'image_details': '{\"title\":\"Coffee Table\",\"productid\":\"Product id 102\"}'},\n",
       " {'id': 35,\n",
       "  'name': 'Sheetal',\n",
       "  'phone': '9509539500',\n",
       "  'email': 'sheetal936@gmail.com',\n",
       "  'address': '14ab',\n",
       "  'image_details': '{\"title\":\"Mirror with Cabinet\",\"productid\":\"Product id 101\"}'},\n",
       " {'id': 36,\n",
       "  'name': 'Sheetal',\n",
       "  'phone': '6367615807',\n",
       "  'email': 'sheetal936@gmail.com',\n",
       "  'address': '14ab',\n",
       "  'image_details': '{\"title\":\"Shoe Rack\",\"productid\":\"Product id 106\"}'},\n",
       " {'id': 37,\n",
       "  'name': 'sheetal vishwakamra',\n",
       "  'phone': '345',\n",
       "  'email': 'sheetal936@gmail.com',\n",
       "  'address': 'asdfsd',\n",
       "  'image_details': '{\"title\":\"Coffee Table\",\"productid\":\"Product id 105\"}'},\n",
       " {'id': 38,\n",
       "  'name': 'sheetal vishwakamra',\n",
       "  'phone': '345',\n",
       "  'email': 'sonuvishwa021@gmail.com',\n",
       "  'address': 'asdfsd',\n",
       "  'image_details': '{\"title\":\"Coffee Table\",\"productid\":\"Product id 105\"}'}]"
      ]
     },
     "execution_count": 75,
     "metadata": {},
     "output_type": "execute_result"
    }
   ],
   "source": [
    "data"
   ]
  },
  {
   "cell_type": "code",
   "execution_count": 76,
   "id": "af77fc64",
   "metadata": {},
   "outputs": [],
   "source": [
    "df = pd.DataFrame(data)"
   ]
  },
  {
   "cell_type": "code",
   "execution_count": 80,
   "id": "9b451069",
   "metadata": {},
   "outputs": [
    {
     "name": "stdout",
     "output_type": "stream",
     "text": [
      "enter ID for getting detail\n",
      "38\n",
      "{\"title\":\"Coffee Table\",\"productid\":\"Product id 105\"}\n"
     ]
    },
    {
     "data": {
      "text/html": [
       "<div>\n",
       "<style scoped>\n",
       "    .dataframe tbody tr th:only-of-type {\n",
       "        vertical-align: middle;\n",
       "    }\n",
       "\n",
       "    .dataframe tbody tr th {\n",
       "        vertical-align: top;\n",
       "    }\n",
       "\n",
       "    .dataframe thead th {\n",
       "        text-align: right;\n",
       "    }\n",
       "</style>\n",
       "<table border=\"1\" class=\"dataframe\">\n",
       "  <thead>\n",
       "    <tr style=\"text-align: right;\">\n",
       "      <th></th>\n",
       "      <th>id</th>\n",
       "      <th>name</th>\n",
       "      <th>phone</th>\n",
       "      <th>email</th>\n",
       "      <th>address</th>\n",
       "    </tr>\n",
       "  </thead>\n",
       "  <tbody>\n",
       "    <tr>\n",
       "      <th>37</th>\n",
       "      <td>38</td>\n",
       "      <td>sheetal vishwakamra</td>\n",
       "      <td>345</td>\n",
       "      <td>sonuvishwa021@gmail.com</td>\n",
       "      <td>asdfsd</td>\n",
       "    </tr>\n",
       "  </tbody>\n",
       "</table>\n",
       "</div>"
      ],
      "text/plain": [
       "    id                 name phone                    email address\n",
       "37  38  sheetal vishwakamra   345  sonuvishwa021@gmail.com  asdfsd"
      ]
     },
     "execution_count": 80,
     "metadata": {},
     "output_type": "execute_result"
    }
   ],
   "source": [
    "print(\"enter ID for getting detail\")\n",
    "d = int(input())\n",
    "ds =(df[df['id']==d])\n",
    "\n",
    "for i ,j in ds['image_details'].items():\n",
    "    print(j)\n",
    "ds[['id','name','phone','email','address']]\n"
   ]
  },
  {
   "cell_type": "code",
   "execution_count": null,
   "id": "861ca60c",
   "metadata": {},
   "outputs": [],
   "source": []
  }
 ],
 "metadata": {
  "kernelspec": {
   "display_name": "Python 3 (ipykernel)",
   "language": "python",
   "name": "python3"
  },
  "language_info": {
   "codemirror_mode": {
    "name": "ipython",
    "version": 3
   },
   "file_extension": ".py",
   "mimetype": "text/x-python",
   "name": "python",
   "nbconvert_exporter": "python",
   "pygments_lexer": "ipython3",
   "version": "3.8.3"
  }
 },
 "nbformat": 4,
 "nbformat_minor": 5
}
